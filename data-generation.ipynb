{
 "cells": [
  {
   "cell_type": "code",
   "execution_count": null,
   "metadata": {},
   "outputs": [],
   "source": [
    "IMAGE_SIZE = (512, 512)\n",
    "BATCH_SIZE = 32\n",
    "SEED = 456\n",
    "\n",
    "def create_segmentation_generator_train(image_path, mask_path, BATCH_SIZE):\n",
    "    data_gen_args = dict(rescale=1./255)\n",
    "    img_datagen = ImageDataGenerator(**data_gen_args)\n",
    "    mask_datagen = ImageDataGenerator(**data_gen_args)\n",
    "    \n",
    "    img_generator = img_datagen.flow_from_directory(image_path, target_size=IMAGE_SIZE, class_mode=None, color_mode='grayscale', batch_size=BATCH_SIZE, seed=SEED)\n",
    "    mask_generator = img_datagen.flow_from_directory(mask_path, target_size=IMAGE_SIZE, class_mode=None, color_mode='grayscale', batch_size=BATCH_SIZE, seed=SEED)\n",
    "    \n",
    "    return zip(img_generator, mask_generator)\n",
    "\n",
    "data_dir_train_image = '/Users/nittinmurthi/Documents/VS_Code/Vascular_Image_Segmentation/Data/3Dto2D/train_test_split/train/train_images'\n",
    "data_dir_train_mask = '/Users/nittinmurthi/Documents/VS_Code/Vascular_Image_Segmentation/Data/3Dto2D/train_test_split/train/train_masks'\n",
    "\n",
    "data_dir_test_image = '/Users/nittinmurthi/Documents/VS_Code/Vascular_Image_Segmentation/Data/3Dto2D/train_test_split/val/val_images'\n",
    "data_dir_test_mask = '/Users/nittinmurthi/Documents/VS_Code/Vascular_Image_Segmentation/Data/3Dto2D/train_test_split/val/val_masks'\n",
    "\n",
    "train_generator = create_segmentation_generator_train(data_dir_train_image, data_dir_train_mask, BATCH_SIZE)\n",
    "test_generator = create_segmentation_generator_train(data_dir_test_image, data_dir_test_mask, BATCH_SIZE)"
   ]
  }
 ],
 "metadata": {
  "language_info": {
   "name": "python"
  }
 },
 "nbformat": 4,
 "nbformat_minor": 2
}
