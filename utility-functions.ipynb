{
 "cells": [
  {
   "cell_type": "code",
   "execution_count": 1,
   "metadata": {},
   "outputs": [],
   "source": [
    "import os\n",
    "import shutil\n",
    "from sklearn.model_selection import train_test_split\n",
    "\n",
    "def create_image_label_dirs(base_dir):\n",
    "    # Create image and label directories within the base directory\n",
    "    images_dir = os.path.join(base_dir, 'images')\n",
    "    masks_dir = os.path.join(base_dir, 'masks')\n",
    "    os.makedirs(images_dir, exist_ok=True)\n",
    "    os.makedirs(masks_dir, exist_ok=True)\n",
    "    return images_dir, masks_dir\n",
    "\n",
    "def move_files(src_images_dir, src_masks_dir, dst_images_dir, dst_masks_dir, files):\n",
    "    for file in files:\n",
    "        image_file = file\n",
    "        mask_file = file.replace('.nii_slice', '_y.nii_slice')  # Adjust the mask file name\n",
    "\n",
    "        image_src = os.path.join(src_images_dir, image_file)\n",
    "        mask_src = os.path.join(src_masks_dir, mask_file)\n",
    "        image_dst = os.path.join(dst_images_dir, image_file)\n",
    "        mask_dst = os.path.join(dst_masks_dir, mask_file)\n",
    "\n",
    "        if os.path.isfile(image_src) and os.path.isfile(mask_src):\n",
    "            shutil.move(image_src, image_dst)\n",
    "            shutil.move(mask_src, mask_dst)\n",
    "        else:\n",
    "            print(f\"Error: Image or mask not found for file {file}\")"
   ]
  },
  {
   "cell_type": "code",
   "execution_count": null,
   "metadata": {},
   "outputs": [],
   "source": [
    "# Specify paths to the original unsplit data images and masks directories\n",
    "original_images_dir = '/Users/nittinmurthi/Documents/VS_Code/Vascular_Image_Segmentation/Data/3Dto2D/raw2D/'\n",
    "original_masks_dir = '/Users/nittinmurthi/Documents/VS_Code/Vascular_Image_Segmentation/Data/3Dto2D/seg2D/'\n",
    "\n",
    "# Specify the base directory where training and validation directories will be created\n",
    "base_output_dir = '/Users/nittinmurthi/Documents/VS_Code/Vascular_Image_Segmentation/Data/3Dto2D/train_test_split/'\n",
    "\n",
    "# Create destination directories if they don't exist\n",
    "train_images_dir, train_masks_dir = create_image_label_dirs(os.path.join(base_output_dir, 'train'))\n",
    "val_images_dir, val_masks_dir = create_image_label_dirs(os.path.join(base_output_dir, 'val'))\n",
    "\n",
    "# Get list of all files in original images directory\n",
    "original_images_files = os.listdir(original_images_dir)\n",
    "\n",
    "# Get list of all files in original masks directory\n",
    "original_masks_files = os.listdir(original_masks_dir)\n",
    "\n",
    "# Split the data into training and validation sets\n",
    "train_files, val_files = train_test_split(\n",
    "    original_images_files, test_size=0.2, random_state=42\n",
    ")\n",
    "\n",
    "# Move training images and masks to corresponding directories\n",
    "move_files(original_images_dir, original_masks_dir, train_images_dir, train_masks_dir, train_files)\n",
    "\n",
    "# Move validation images and masks to corresponding directories\n",
    "move_files(original_images_dir, original_masks_dir, val_images_dir, val_masks_dir, val_files)"
   ]
  },
  {
   "cell_type": "code",
   "execution_count": null,
   "metadata": {},
   "outputs": [],
   "source": [
    "def count_files_in_directory(directory_path):\n",
    "    # Check if directory exists\n",
    "    if not os.path.exists(directory_path):\n",
    "        print(\"Directory does not exist.\")\n",
    "        return\n",
    "    \n",
    "    # Get list of files in directory\n",
    "    files = os.listdir(directory_path)\n",
    "    \n",
    "    # Count the number of files\n",
    "    num_files = len(files)\n",
    "    \n",
    "    print(f\"Number of files in directory '{directory_path}': {num_files}\")"
   ]
  }
 ],
 "metadata": {
  "kernelspec": {
   "display_name": "Python 3",
   "language": "python",
   "name": "python3"
  },
  "language_info": {
   "codemirror_mode": {
    "name": "ipython",
    "version": 3
   },
   "file_extension": ".py",
   "mimetype": "text/x-python",
   "name": "python",
   "nbconvert_exporter": "python",
   "pygments_lexer": "ipython3",
   "version": "3.9.6"
  }
 },
 "nbformat": 4,
 "nbformat_minor": 2
}
