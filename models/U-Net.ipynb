{
 "cells": [
  {
   "cell_type": "code",
   "execution_count": null,
   "metadata": {},
   "outputs": [],
   "source": [
    "import tensorflow.keras as keras\n",
    "\n",
    "def conv_block(x, filters, kernel_size=(3, 3), padding='same', strides=1):\n",
    "    x = keras.layers.Conv2D(filters, kernel_size, padding=padding, strides=strides, activation='relu')(x)\n",
    "    x = keras.layers.BatchNormalization()(x)\n",
    "    x = keras.layers.Conv2D(filters, kernel_size, padding=padding, strides=strides, activation='relu')(x)\n",
    "    x = keras.layers.BatchNormalization()(x)\n",
    "    return x\n",
    "\n",
    "def unet(input_size, n_classes=1):\n",
    "    inputs = keras.layers.Input(input_size)\n",
    "\n",
    "    # Encoder\n",
    "    c1 = conv_block(inputs, 64)\n",
    "    p1 = keras.layers.MaxPooling2D((2, 2))(c1)\n",
    "\n",
    "    c2 = conv_block(p1, 128)\n",
    "    p2 = keras.layers.MaxPooling2D((2, 2))(c2)\n",
    "\n",
    "    c3 = conv_block(p2, 256)\n",
    "    p3 = keras.layers.MaxPooling2D((2, 2))(c3)\n",
    "\n",
    "    c4 = conv_block(p3, 512)\n",
    "    p4 = keras.layers.MaxPooling2D(pool_size=(2, 2))(c4)\n",
    "\n",
    "    c5 = conv_block(p4, 1024)\n",
    "\n",
    "    # Decoder\n",
    "    u6 = keras.layers.Conv2DTranspose(512, (2, 2), strides=(2, 2), padding='same')(c5)\n",
    "    u6 = keras.layers.concatenate([u6, c4], axis=3)\n",
    "    c6 = conv_block(u6, 512)\n",
    "\n",
    "    u7 = keras.layers.Conv2DTranspose(256, (2, 2), strides=(2, 2), padding='same')(c6)\n",
    "    u7 = keras.layers.concatenate([u7, c3], axis=3)\n",
    "    c7 = conv_block(u7, 256)\n",
    "\n",
    "    u8 = keras.layers.Conv2DTranspose(128, (2, 2), strides=(2, 2), padding='same')(c7)\n",
    "    u8 = keras.layers.concatenate([u8, c2], axis=3)\n",
    "    c8 = conv_block(u8, 128)\n",
    "\n",
    "    u9 = keras.layers.Conv2DTranspose(64, (2, 2), strides=(2, 2), padding='same')(c8)\n",
    "    u9 = keras.layers.concatenate([u9, c1], axis=3)\n",
    "    c9 = conv_block(u9, 64)\n",
    "\n",
    "    outputs = keras.layers.Conv2D(1, (1, 1), activation='sigmoid')(c9)\n",
    "\n",
    "    model = keras.models.Model(inputs=[inputs], outputs=[outputs])\n",
    "\n",
    "    return model"
   ]
  }
 ],
 "metadata": {
  "language_info": {
   "name": "python"
  }
 },
 "nbformat": 4,
 "nbformat_minor": 2
}
